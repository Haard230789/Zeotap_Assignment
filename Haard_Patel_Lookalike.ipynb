{
 "cells": [
  {
   "cell_type": "code",
   "execution_count": 1,
   "id": "b0382fe3-f088-471a-9713-b0898a79fe4a",
   "metadata": {},
   "outputs": [],
   "source": [
    "## Step 1: Import Necessary Libraries\n",
    "import pandas as pd\n",
    "from sklearn.preprocessing import OneHotEncoder\n",
    "from sklearn.metrics.pairwise import cosine_similarity"
   ]
  },
  {
   "cell_type": "code",
   "execution_count": 2,
   "id": "d2fbb120-d7b8-49ad-bd4c-caf18a35f34b",
   "metadata": {},
   "outputs": [],
   "source": [
    "## Step 2: Load Datasets\n",
    "customers = pd.read_csv('Customers.csv')\n",
    "products = pd.read_csv('Products.csv')\n",
    "transactions = pd.read_csv('Transactions.csv')"
   ]
  },
  {
   "cell_type": "code",
   "execution_count": 3,
   "id": "86457d1a-abdb-40d7-a04c-256a59c5a4dc",
   "metadata": {},
   "outputs": [],
   "source": [
    "## Step 3: Preprocess and Clean Data\n",
    "customers['SignupDate'] = pd.to_datetime(customers['SignupDate'])\n",
    "transactions['TransactionDate'] = pd.to_datetime(transactions['TransactionDate'])"
   ]
  },
  {
   "cell_type": "code",
   "execution_count": 4,
   "id": "8a3ffc9b-ac23-48f4-9365-a2567aec3c0c",
   "metadata": {},
   "outputs": [],
   "source": [
    "# Merge transactions with product information\n",
    "transactions = transactions.merge(products, on='ProductID', how='left')"
   ]
  },
  {
   "cell_type": "code",
   "execution_count": 5,
   "id": "cf1383d5-00a5-47f7-91e8-39c5137f7170",
   "metadata": {},
   "outputs": [],
   "source": [
    "# Aggregate transaction data by customer\n",
    "customer_profiles = transactions.groupby('CustomerID').agg({\n",
    "    'TotalValue': ['sum', 'mean'],  # Total and average spending\n",
    "    'ProductID': 'count',          # Number of transactions\n",
    "    'Category': lambda x: x.mode()[0],  # Most purchased category\n",
    "}).reset_index()\n",
    "customer_profiles.columns = ['CustomerID', 'TotalSpending', 'AverageSpending', 'TransactionCount', 'FavoriteCategory']"
   ]
  },
  {
   "cell_type": "code",
   "execution_count": 6,
   "id": "2df6f768-ce6a-4e38-b822-9c1e4898be52",
   "metadata": {},
   "outputs": [],
   "source": [
    "# Merge customer profiles with customer information\n",
    "customer_profiles = customers.merge(customer_profiles, on='CustomerID', how='left')"
   ]
  },
  {
   "cell_type": "code",
   "execution_count": 7,
   "id": "c0aeb878-77d5-47cd-96a5-ca978953c8cd",
   "metadata": {},
   "outputs": [],
   "source": [
    "## Step 4: Feature Engineering\n",
    "# One-hot encode categorical variables (Region, FavoriteCategory)\n",
    "encoder = OneHotEncoder(sparse_output=False)\n",
    "categorical_data = encoder.fit_transform(customer_profiles[['Region', 'FavoriteCategory']])"
   ]
  },
  {
   "cell_type": "code",
   "execution_count": 8,
   "id": "13a01097-2db5-4145-9df1-41731fa93602",
   "metadata": {},
   "outputs": [],
   "source": [
    "# Combine numerical and categorical features\n",
    "numerical_data = customer_profiles[['TotalSpending', 'AverageSpending', 'TransactionCount']].fillna(0)\n",
    "features = pd.concat([numerical_data, pd.DataFrame(categorical_data)], axis=1)"
   ]
  },
  {
   "cell_type": "code",
   "execution_count": 9,
   "id": "7940a6dd-ab72-4e0c-94b8-9fc8de5d9116",
   "metadata": {},
   "outputs": [],
   "source": [
    "## Step 5: Compute Similarities\n",
    "# Compute pairwise cosine similarity\n",
    "similarity_matrix = cosine_similarity(features)"
   ]
  },
  {
   "cell_type": "code",
   "execution_count": 10,
   "id": "b675a962-691c-4248-9946-4abb944aeccd",
   "metadata": {},
   "outputs": [],
   "source": [
    "## Step 6: Generate Lookalike Recommendations\n",
    "# Create a dictionary to store lookalike data\n",
    "lookalike_map = {}\n",
    "# Map CustomerID to matrix indices\n",
    "customer_ids = customer_profiles['CustomerID']"
   ]
  },
  {
   "cell_type": "code",
   "execution_count": 11,
   "id": "8efdf620-401b-4b93-9910-6805807ac5ff",
   "metadata": {},
   "outputs": [],
   "source": [
    "for i, customer_id in enumerate(customer_ids):\n",
    "    # Get similarity scores for the current customer\n",
    "    similarities = list(enumerate(similarity_matrix[i]))\n",
    "    # Sort by similarity score (excluding self-similarity)\n",
    "    similarities = sorted(similarities, key=lambda x: x[1], reverse=True)\n",
    "    top_lookalikes = [\n",
    "        (customer_ids[j], score) for j, score in similarities[1:4]  # Top 3 lookalikes\n",
    "    ]\n",
    "    lookalike_map[customer_id] = top_lookalikes"
   ]
  },
  {
   "cell_type": "code",
   "execution_count": 12,
   "id": "e0f71e71-e394-4ac9-b75f-8ae425b68d40",
   "metadata": {},
   "outputs": [
    {
     "name": "stdout",
     "output_type": "stream",
     "text": [
      "Lookalike.csv generated successfully.\n"
     ]
    }
   ],
   "source": [
    "# Generate output for customers C0001 to C0020\n",
    "output = []\n",
    "for customer_id in customer_ids[:20]:\n",
    "    lookalikes = lookalike_map[customer_id]\n",
    "    row = [customer_id]\n",
    "    for lookalike, score in lookalikes:\n",
    "        row.extend([lookalike, score])\n",
    "    output.append(row)\n",
    "\n",
    "columns = ['CustomerID', \n",
    "           'SimilarCustomerID1', 'Score1', \n",
    "           'SimilarCustomerID2', 'Score2', \n",
    "           'SimilarCustomerID3', 'Score3']\n",
    "## Step 7: Save Results\n",
    "\n",
    "# Save lookalike results to CSV\n",
    "lookalike_df = pd.DataFrame(output, columns=columns)\n",
    "lookalike_df.to_csv('Lookalike.csv', index=False)\n",
    "\n",
    "print(\"Lookalike.csv generated successfully.\")"
   ]
  }
 ],
 "metadata": {
  "kernelspec": {
   "display_name": "Python 3 (ipykernel)",
   "language": "python",
   "name": "python3"
  },
  "language_info": {
   "codemirror_mode": {
    "name": "ipython",
    "version": 3
   },
   "file_extension": ".py",
   "mimetype": "text/x-python",
   "name": "python",
   "nbconvert_exporter": "python",
   "pygments_lexer": "ipython3",
   "version": "3.12.4"
  }
 },
 "nbformat": 4,
 "nbformat_minor": 5
}
